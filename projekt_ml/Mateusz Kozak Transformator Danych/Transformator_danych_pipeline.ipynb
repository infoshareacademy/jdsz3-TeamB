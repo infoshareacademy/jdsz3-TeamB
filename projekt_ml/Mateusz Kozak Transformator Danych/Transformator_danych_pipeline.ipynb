{
 "cells": [
  {
   "cell_type": "code",
   "execution_count": null,
   "metadata": {},
   "outputs": [],
   "source": [
    "%matplotlib inline\n",
    "import pandas as pd\n",
    "import numpy as np\n",
    "import seaborn as sb\n",
    "import matplotlib.pyplot as plt\n",
    "from sklearn.preprocessing import StandardScaler, MinMaxScaler, OneHotEncoder\n",
    "from sklearn.base import BaseEstimator, TransformerMixin\n",
    "from sklearn.pipeline import Pipeline, FeatureUnion\n",
    "\n",
    "df = pd.read_csv(r\"Credit.csv\")\n",
    "df = df.drop(columns=[\"Unnamed: 0\"])\n",
    "dfy = df[\"Rating\"]\n",
    "df.head(5)"
   ]
  },
  {
   "cell_type": "code",
   "execution_count": null,
   "metadata": {},
   "outputs": [],
   "source": [
    "new_df = df.drop(columns=[\"Rating\", \"Limit\", \"Balance\"])\n",
    "numeric_columns2 = new_df.select_dtypes(include =[np.number]).columns.tolist()\n",
    "cat_columns = new_df.select_dtypes(exclude=[np.number]).columns.tolist()\n",
    "numeric_columns2\n",
    "#cat_columns"
   ]
  },
  {
   "cell_type": "code",
   "execution_count": null,
   "metadata": {},
   "outputs": [],
   "source": [
    "from sklearn.preprocessing import MultiLabelBinarizer\n",
    "from sklearn.pipeline import Pipeline, FeatureUnion\n",
    "\n",
    "class MyLabelBinarizer(TransformerMixin):\n",
    "    def __init__(self, *args, **kwargs):\n",
    "        self.encoder = MultiLabelBinarizer(*args, **kwargs)\n",
    "    def fit(self, x, y=0):\n",
    "        self.encoder.fit(x)\n",
    "        return self\n",
    "    def transform(self, x, y=0):\n",
    "        return self.encoder.transform(x)\n",
    "\n",
    "class DataframeSelector(BaseEstimator, TransformerMixin):\n",
    "    def __init__(self, atrib_names):\n",
    "        self.atribute_names = atrib_names\n",
    "    def fit(self, X, y=None):\n",
    "        return self\n",
    "    def transform(self, X, y=0):\n",
    "        return X[self.atribute_names].values\n",
    "    "
   ]
  },
  {
   "cell_type": "code",
   "execution_count": null,
   "metadata": {},
   "outputs": [],
   "source": [
    "num_pipeline = Pipeline([\n",
    "    ('selector', DataframeSelector(numeric_columns2)),\n",
    "    ('std_scaler', StandardScaler())\n",
    "])\n",
    "#categorial pipeline\n",
    "cat_pipeline = Pipeline([\n",
    "    ('selector', DataframeSelector(cat_columns)),\n",
    "    ('label_binarizer', MyLabelBinarizer())\n",
    "])\n",
    "##union piplines\n",
    "full_pipeline = FeatureUnion(transformer_list=[\n",
    "    (\"num_pipeline\", num_pipeline),\n",
    "    (\"cat_pipline\", cat_pipeline)\n",
    "])"
   ]
  },
  {
   "cell_type": "code",
   "execution_count": null,
   "metadata": {},
   "outputs": [],
   "source": [
    "\n",
    "X_data = new_df[numeric_columns2+cat_columns]\n",
    "y_new = df[\"Limit\"]\n",
    "\n",
    "X_train, X_test, y_train, y_test = train_test_split(X_data, y_new, test_size=0.2, random_state=2)\n",
    "\n",
    "X_train_trans = full_pipeline.fit_transform(X_train)\n",
    "X_test_trans = full_pipeline.fit_transform(X_test)\n",
    "\n",
    "X_train_trans[0]"
   ]
  },
  {
   "cell_type": "code",
   "execution_count": null,
   "metadata": {},
   "outputs": [],
   "source": []
  }
 ],
 "metadata": {
  "kernelspec": {
   "display_name": "Python 3",
   "language": "python",
   "name": "python3"
  },
  "language_info": {
   "codemirror_mode": {
    "name": "ipython",
    "version": 3
   },
   "file_extension": ".py",
   "mimetype": "text/x-python",
   "name": "python",
   "nbconvert_exporter": "python",
   "pygments_lexer": "ipython3",
   "version": "3.7.3"
  }
 },
 "nbformat": 4,
 "nbformat_minor": 2
}
